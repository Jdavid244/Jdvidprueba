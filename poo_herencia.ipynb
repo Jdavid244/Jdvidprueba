{
  "nbformat": 4,
  "nbformat_minor": 0,
  "metadata": {
    "colab": {
      "provenance": [],
      "collapsed_sections": [],
      "authorship_tag": "ABX9TyNw0qdQw1OsAvQywqnaleGS",
      "include_colab_link": true
    },
    "kernelspec": {
      "name": "python3",
      "display_name": "Python 3"
    },
    "language_info": {
      "name": "python"
    }
  },
  "cells": [
    {
      "cell_type": "markdown",
      "metadata": {
        "id": "view-in-github",
        "colab_type": "text"
      },
      "source": [
        "<a href=\"https://colab.research.google.com/github/Jdavid244/Jdvidprueba/blob/main/poo_herencia.ipynb\" target=\"_parent\"><img src=\"https://colab.research.google.com/assets/colab-badge.svg\" alt=\"Open In Colab\"/></a>"
      ]
    },
    {
      "cell_type": "code",
      "execution_count": 37,
      "metadata": {
        "id": "FiIh_533UACN"
      },
      "outputs": [],
      "source": [
        "class Sayayin:\n",
        "  def __init__(self,nombre,estatura,colamono=True,cabello=\"Negro\",ojos=\"Negro\"):\n",
        "    self.nombre=nombre\n",
        "    self.colamono=colamono\n",
        "    self.cabello=cabello\n",
        "    self.ojos=ojos\n",
        "    self.estatura=estatura\n",
        "    self.colamono=True\n",
        "  \n",
        "  def cambio_color(self,putisteria):\n",
        "    if putisteria>=4000 and putisteria<100000:\n",
        "      self.ccabello='rubio'\n",
        "      self.cojos='aguamarina'\n",
        "    elif putisteria >= 100000 and putisteria<200000:\n",
        "      self.ccabello='rojo'\n",
        "      self.cojos='rosa'\n",
        "    elif putisteria >= 200000 and putisteria<500000:\n",
        "      self.ccabello='azul'\n",
        "      self.cojos='azul azul'\n",
        "    elif putisteria >= 500000 and putisteria<100000:\n",
        "      self.ccabello='no c'\n",
        "      self.cojos='plateado'\n",
        "    else:\n",
        "      self.ccabello='negro'\n",
        "      self.cojos='negro'\n",
        "\n",
        "    def trabajo(self,t):\n",
        "      if t==1: print(self.nombre,' es guerrero')\n",
        "      elif t==2: print(f\"{self.nombre} es politico\")\n",
        "      elif t==3: print(f\"{self.nombre} es de la patrulla roja\")\n",
        "      elif t==4: print(f\"{self.nombre} trabaja en capsula corps\")\n",
        "      elif t==5: print(f\"{self.nombre} es politico\")\n",
        "\n",
        "    "
      ]
    },
    {
      "cell_type": "code",
      "source": [
        "class Humano:\n",
        "  def __init__(self,nombre,ki,color_piel,cabello,altura,color_ojos,brazos,piernas,sexo,peso,IQ,RH,belleza):\n",
        "    self.nombre=nombre\n",
        "    self.ki=ki\n",
        "    self.color_piel=color_piel\n",
        "    self.cabello=cabello\n",
        "    self.altura=altura\n",
        "    self.color_ojos=color_ojos\n",
        "    self.brazos=brazos\n",
        "    self.piernas=piernas\n",
        "    self.peso=peso\n",
        "    self.sexo=sexo\n",
        "    self.IQ=IQ\n",
        "    self.RH=RH\n",
        "    self.belleza=belleza"
      ],
      "metadata": {
        "id": "Jg4MgSEmz-tG"
      },
      "execution_count": 42,
      "outputs": []
    },
    {
      "cell_type": "code",
      "source": [
        "class Hibridos(Sayayin,Humano):\n",
        "  def __init__(self,cabello,ojos,estatura,nombre):\n",
        "    super().__init__(nombre,estatura,colamono=False)\n",
        "    self.cabello=cabello\n",
        "    self.ojos=ojos\n",
        "\n",
        "  def poderes(self):\n",
        "    print(f\"{self.nombre} Puede transformarse \")"
      ],
      "metadata": {
        "id": "I6FKZPDXz3nG"
      },
      "execution_count": 46,
      "outputs": []
    },
    {
      "cell_type": "code",
      "source": [
        "Gohan=Hibridos(\"Azul\",\"Rojo\",180,\"Gohan\")\n",
        "Gohan.__dict__"
      ],
      "metadata": {
        "colab": {
          "base_uri": "https://localhost:8080/"
        },
        "id": "uMcqrSK3z6l9",
        "outputId": "4520ea4f-4544-45e9-b3d5-d7bf28b86a16"
      },
      "execution_count": 48,
      "outputs": [
        {
          "output_type": "execute_result",
          "data": {
            "text/plain": [
              "{'nombre': 'Gohan',\n",
              " 'colamono': True,\n",
              " 'cabello': 'Azul',\n",
              " 'ojos': 'Rojo',\n",
              " 'estatura': 180}"
            ]
          },
          "metadata": {},
          "execution_count": 48
        }
      ]
    },
    {
      "cell_type": "markdown",
      "source": [
        "Apuntes de perros"
      ],
      "metadata": {
        "id": "Ps238-8h0UEt"
      }
    },
    {
      "cell_type": "code",
      "source": [
        "class perros():\n",
        "  def ladrar(self):\n",
        "    print('GUAAU GUAUU')\n",
        "  def gruñir(self):\n",
        "    print('GRRRRR GRRRR')"
      ],
      "metadata": {
        "id": "z_Z5-Ueig7Zd"
      },
      "execution_count": 18,
      "outputs": []
    },
    {
      "cell_type": "code",
      "source": [
        "class caniches(perros):\n",
        "  def ladrar(self):\n",
        "    print('guau guau guau guau')\n",
        "  def gruñir(self):\n",
        "    print('gñiii gñiii gñiii')"
      ],
      "metadata": {
        "id": "CvYsN5J-hQst"
      },
      "execution_count": 19,
      "outputs": []
    },
    {
      "cell_type": "code",
      "source": [
        "class pastor_aleman(perros):\n",
        "  def ladrar(self):\n",
        "    print('guaUUU GUAUUU GUAuuu')\n",
        "  def gruñir(self):\n",
        "    print('agrrrgrrr agrrrgrr')\n",
        "    "
      ],
      "metadata": {
        "id": "TmA2UVhohlXN"
      },
      "execution_count": 20,
      "outputs": []
    },
    {
      "cell_type": "code",
      "source": [
        "class shepa(caniches,pastor_aleman):\n",
        "  def xladrar(self,veces):\n",
        "    for cuantas in range(veces):\n",
        "      super(shepa,self).ladrar()\n"
      ],
      "metadata": {
        "id": "PN--eOk3h_79"
      },
      "execution_count": 21,
      "outputs": []
    },
    {
      "cell_type": "code",
      "source": [
        "tommy=pastor_aleman()\n",
        "lulu=caniches()\n",
        "milu=shepa()\n",
        "milu.xladrar(2)"
      ],
      "metadata": {
        "colab": {
          "base_uri": "https://localhost:8080/"
        },
        "id": "jDHK_jbYikCk",
        "outputId": "2be79ca8-ab64-4725-d184-92c76b3c96b3"
      },
      "execution_count": 22,
      "outputs": [
        {
          "output_type": "stream",
          "name": "stdout",
          "text": [
            "guau guau guau guau\n",
            "guau guau guau guau\n"
          ]
        }
      ]
    },
    {
      "cell_type": "code",
      "source": [
        "class asignar(list):\n",
        "  pass"
      ],
      "metadata": {
        "id": "Zf4J7S95jnhV"
      },
      "execution_count": 24,
      "outputs": []
    },
    {
      "cell_type": "code",
      "source": [
        "a=asignar()"
      ],
      "metadata": {
        "id": "9U131bnPkutk"
      },
      "execution_count": 26,
      "outputs": []
    },
    {
      "cell_type": "code",
      "source": [
        "a.append(4)"
      ],
      "metadata": {
        "id": "gyNL4fvukyjU"
      },
      "execution_count": 27,
      "outputs": []
    },
    {
      "cell_type": "code",
      "source": [
        "class padre():\n",
        "  def __init__(self,ojos,cejas):\n",
        "    self.ojos=ojos\n",
        "    self.cejas=cejas\n",
        "\n",
        "class hijo(padre):\n",
        "  def __init__(self,ojos,cejas,cara):\n",
        "    self.ojos=ojos\n",
        "    self.cejas=cejas\n",
        "    self.cara=cara\n"
      ],
      "metadata": {
        "id": "bdO-t7t-lK08"
      },
      "execution_count": 28,
      "outputs": []
    },
    {
      "cell_type": "code",
      "source": [
        "manuel=padre('marron','miel')\n",
        "tomas=hijo('rubio','verde','larga')\n",
        "print(tomas.ojos,tomas.cejas,tomas.cara)"
      ],
      "metadata": {
        "colab": {
          "base_uri": "https://localhost:8080/"
        },
        "id": "TEQmUhNtl3BM",
        "outputId": "e637edfd-dcdc-4af6-daf4-9c3df6e93274"
      },
      "execution_count": 29,
      "outputs": [
        {
          "output_type": "stream",
          "name": "stdout",
          "text": [
            "rubio verde larga\n"
          ]
        }
      ]
    },
    {
      "cell_type": "code",
      "source": [
        "class abuelo():\n",
        "  def __init__(self,ojos,cejas):\n",
        "    self.ojos=ojos\n",
        "    self.cejas=cejas\n",
        "\n",
        "class hijo2(abuelo):\n",
        "  def __init__(self,ojos,cejas,cara):\n",
        "    super().__init__(ojos,cejas)\n",
        "    self.cara=cara"
      ],
      "metadata": {
        "id": "czuOVPJtmKoM"
      },
      "execution_count": 35,
      "outputs": []
    },
    {
      "cell_type": "code",
      "source": [
        "abuelo=abuelo('negro','marron')\n",
        "mateo=hijo2('marron','verde','clean')"
      ],
      "metadata": {
        "id": "4avfJPNsnDf4"
      },
      "execution_count": 36,
      "outputs": []
    }
  ]
}